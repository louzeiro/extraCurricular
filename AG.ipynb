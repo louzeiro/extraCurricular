{
  "nbformat": 4,
  "nbformat_minor": 0,
  "metadata": {
    "colab": {
      "name": "AG.ipynb",
      "provenance": [],
      "collapsed_sections": [],
      "authorship_tag": "ABX9TyNclk2q+bHXXIfIhQnnGg+L",
      "include_colab_link": true
    },
    "kernelspec": {
      "name": "python3",
      "display_name": "Python 3"
    },
    "language_info": {
      "name": "python"
    }
  },
  "cells": [
    {
      "cell_type": "markdown",
      "metadata": {
        "id": "view-in-github",
        "colab_type": "text"
      },
      "source": [
        "<a href=\"https://colab.research.google.com/github/louzeiro/extraCurricular/blob/main/AG.ipynb\" target=\"_parent\"><img src=\"https://colab.research.google.com/assets/colab-badge.svg\" alt=\"Open In Colab\"/></a>"
      ]
    },
    {
      "cell_type": "markdown",
      "source": [
        "Notebook desenvolvido no curso Algoritmos Genéticos em Python <br>\n",
        "\n",
        "Disponível em: https://www.udemy.com/course/algoritmos-geneticos-em-python/"
      ],
      "metadata": {
        "id": "x2NKbS0AWMHw"
      }
    },
    {
      "cell_type": "markdown",
      "source": [
        "## Instalação e importe das bibliotecas"
      ],
      "metadata": {
        "id": "ngGexUw7yzRv"
      }
    },
    {
      "cell_type": "code",
      "source": [
        "#instalação \n",
        "import  os\n",
        "os.system('pip install pymsql')\n",
        "\n",
        "#importe\n",
        "from random import random\n",
        "import matplotlib.pyplot as plt\n",
        "import pymysql"
      ],
      "metadata": {
        "id": "-6iOvwlmWH6r"
      },
      "execution_count": 5,
      "outputs": []
    },
    {
      "cell_type": "markdown",
      "source": [
        "## Classes Desenvolvidas "
      ],
      "metadata": {
        "id": "dCMiXkMuytT6"
      }
    },
    {
      "cell_type": "code",
      "source": [
        "class Produto(): # classe dos produtos Nome, espaço que ele ocupa e o valor em real\n",
        "    def __init__(self, nome, espaco, valor):\n",
        "        self.nome = nome          # nome do produto\n",
        "        self.espaco = espaco      # espaço que ele ocupa do transporte\n",
        "        self.valor = valor        # valor do produto\n",
        "        \n",
        "class Individuo():\n",
        "    def __init__(self, espacos, valores, limite_espacos, geracao=0):\n",
        "        self.espacos = espacos                # espaços ocupados pelos produtos\n",
        "        self.valores = valores                # valores dos produtos selecionados\n",
        "        self.limite_espacos = limite_espacos  #limite do espaço, nesse caso 3m^3\n",
        "        self.nota_avaliacao = 0               # avaliação do individuo\n",
        "        self.espaco_usado = 0                 # \n",
        "        self.geracao = geracao                #\n",
        "        self.cromossomo = []                  # representa uma possível solução, onde cada posição indica o produto e o alelo 0(não), 1(sim)\n",
        "        \n",
        "        for i in range(len(espacos)):         # inicialização aleatória do cromossomo.\n",
        "            if random() < 0.5:                # probabilidade de seleção do produto\n",
        "                self.cromossomo.append(\"0\")   # 0-não vai\n",
        "            else:\n",
        "                self.cromossomo.append(\"1\")   # vai\n",
        "                \n",
        "    def avaliacao(self):\n",
        "        nota = 0\n",
        "        soma_espacos = 0\n",
        "        for i in range(len(self.cromossomo)):\n",
        "           if self.cromossomo[i] == '1':\n",
        "               nota += self.valores[i]\n",
        "               soma_espacos += self.espacos[i]\n",
        "        if soma_espacos > self.limite_espacos:\n",
        "            nota = 1\n",
        "        self.nota_avaliacao = nota\n",
        "        self.espaco_usado = soma_espacos\n",
        "        \n",
        "    def crossover(self, outro_individuo):\n",
        "        corte = round(random()  * len(self.cromossomo))\n",
        "        \n",
        "        filho1 = outro_individuo.cromossomo[0:corte] + self.cromossomo[corte::]\n",
        "        filho2 = self.cromossomo[0:corte] + outro_individuo.cromossomo[corte::]\n",
        "        \n",
        "        filhos = [Individuo(self.espacos, self.valores, self.limite_espacos, self.geracao + 1),\n",
        "                  Individuo(self.espacos, self.valores, self.limite_espacos, self.geracao + 1)]\n",
        "        filhos[0].cromossomo = filho1\n",
        "        filhos[1].cromossomo = filho2\n",
        "        return filhos\n",
        "    \n",
        "    def mutacao(self, taxa_mutacao):\n",
        "        #print(\"Antes %s \" % self.cromossomo)\n",
        "        for i in range(len(self.cromossomo)):\n",
        "            if random() < taxa_mutacao:\n",
        "                if self.cromossomo[i] == '1':\n",
        "                    self.cromossomo[i] = '0'\n",
        "                else:\n",
        "                    self.cromossomo[i] = '1'\n",
        "        #print(\"Depois %s \" % self.cromossomo)\n",
        "        return self\n",
        "        \n",
        "class AlgoritmoGenetico():\n",
        "    def __init__(self, tamanho_populacao):\n",
        "        self.tamanho_populacao = tamanho_populacao\n",
        "        self.populacao = []\n",
        "        self.geracao = 0\n",
        "        self.melhor_solucao = 0\n",
        "        self.lista_solucoes = []\n",
        "        \n",
        "    def inicializa_populacao(self, espacos, valores, limite_espacos):\n",
        "        for i in range(self.tamanho_populacao):\n",
        "            self.populacao.append(Individuo(espacos, valores, limite_espacos))\n",
        "        self.melhor_solucao = self.populacao[0]\n",
        "        \n",
        "    def ordena_populacao(self):\n",
        "        self.populacao = sorted(self.populacao,\n",
        "                                key = lambda populacao: populacao.nota_avaliacao,\n",
        "                                reverse = True)\n",
        "        \n",
        "    def melhor_individuo(self, individuo):\n",
        "        if individuo.nota_avaliacao > self.melhor_solucao.nota_avaliacao:\n",
        "            self.melhor_solucao = individuo\n",
        "            \n",
        "    def soma_avaliacoes(self):\n",
        "        soma = 0\n",
        "        for individuo in self.populacao:\n",
        "           soma += individuo.nota_avaliacao\n",
        "        return soma\n",
        "    \n",
        "    def seleciona_pai(self, soma_avaliacao):\n",
        "        pai = -1\n",
        "        valor_sorteado = random() * soma_avaliacao\n",
        "        soma = 0\n",
        "        i = 0\n",
        "        while i < len(self.populacao) and soma < valor_sorteado:\n",
        "            soma += self.populacao[i].nota_avaliacao\n",
        "            pai += 1\n",
        "            i += 1\n",
        "        return pai\n",
        "    \n",
        "    def visualiza_geracao(self):\n",
        "        melhor = self.populacao[0]\n",
        "        print(\"G:%s -> Valor: %s Espaço: %s Cromossomo: %s\" % (self.populacao[0].geracao,\n",
        "                                                               melhor.nota_avaliacao,\n",
        "                                                               melhor.espaco_usado,\n",
        "                                                               melhor.cromossomo))\n",
        "    \n",
        "    def resolver(self, taxa_mutacao, numero_geracoes, espacos, valores, limite_espacos):\n",
        "        self.inicializa_populacao(espacos, valores, limite_espacos)\n",
        "        \n",
        "        for individuo in self.populacao:\n",
        "            individuo.avaliacao()\n",
        "        \n",
        "        self.ordena_populacao()\n",
        "        self.melhor_solucao = self.populacao[0]\n",
        "        self.lista_solucoes.append(self.melhor_solucao.nota_avaliacao)\n",
        "        \n",
        "        self.visualiza_geracao()\n",
        "        \n",
        "        for geracao in range(numero_geracoes):\n",
        "            soma_avaliacao = self.soma_avaliacoes()\n",
        "            nova_populacao = []\n",
        "            \n",
        "            for individuos_gerados in range(0, self.tamanho_populacao, 2):\n",
        "                pai1 = self.seleciona_pai(soma_avaliacao)\n",
        "                pai2 = self.seleciona_pai(soma_avaliacao)\n",
        "                \n",
        "                filhos = self.populacao[pai1].crossover(self.populacao[pai2])\n",
        "                \n",
        "                nova_populacao.append(filhos[0].mutacao(taxa_mutacao))\n",
        "                nova_populacao.append(filhos[1].mutacao(taxa_mutacao))\n",
        "            \n",
        "            self.populacao = list(nova_populacao)\n",
        "            \n",
        "            for individuo in self.populacao:\n",
        "                individuo.avaliacao()\n",
        "            \n",
        "            self.ordena_populacao()\n",
        "            \n",
        "            self.visualiza_geracao()\n",
        "            \n",
        "            melhor = self.populacao[0]\n",
        "            self.lista_solucoes.append(melhor.nota_avaliacao)\n",
        "            self.melhor_individuo(melhor)\n",
        "        \n",
        "        print(\"\\nMelhor solução -> G: %s Valor: %s Espaço: %s Cromossomo: %s\" %\n",
        "              (self.melhor_solucao.geracao,\n",
        "               self.melhor_solucao.nota_avaliacao,\n",
        "               self.melhor_solucao.espaco_usado,\n",
        "               self.melhor_solucao.cromossomo))\n",
        "        \n",
        "        return self.melhor_solucao.cromossomo"
      ],
      "metadata": {
        "id": "4IAiPsPxV2Lj"
      },
      "execution_count": 6,
      "outputs": []
    },
    {
      "cell_type": "markdown",
      "source": [
        "## Criando uma lista de produtos"
      ],
      "metadata": {
        "id": "VosSYkiN0NlV"
      }
    },
    {
      "cell_type": "code",
      "source": [
        "lista_produtos = []\n",
        "lista_produtos.append(Produto(\"Geladeira Dako\", 0.751, 999.90))\n",
        "lista_produtos.append(Produto(\"Iphone 6\", 0.0000899, 2911.12))\n",
        "lista_produtos.append(Produto(\"TV 55' \", 0.400, 4346.99))\n",
        "lista_produtos.append(Produto(\"TV 50' \", 0.290, 3999.90))\n",
        "lista_produtos.append(Produto(\"TV 42' \", 0.200, 2999.00))\n",
        "lista_produtos.append(Produto(\"Notebook Dell\", 0.00350, 2499.90))\n",
        "lista_produtos.append(Produto(\"Ventilador Panasonic\", 0.496, 199.90))\n",
        "lista_produtos.append(Produto(\"Microondas Electrolux\", 0.0424, 308.66))\n",
        "lista_produtos.append(Produto(\"Microondas LG\", 0.0544, 429.90))\n",
        "lista_produtos.append(Produto(\"Microondas Panasonic\", 0.0319, 299.29))\n",
        "lista_produtos.append(Produto(\"Geladeira Brastemp\", 0.635, 849.00))\n",
        "lista_produtos.append(Produto(\"Geladeira Consul\", 0.870, 1199.89))\n",
        "lista_produtos.append(Produto(\"Notebook Lenovo\", 0.498, 1999.90))\n",
        "lista_produtos.append(Produto(\"Notebook Asus\", 0.527, 3999.00))\n",
        "\n",
        "for produto in lista_produtos:\n",
        "  print(produto.nome)"
      ],
      "metadata": {
        "id": "cVwHVFBJzuFZ"
      },
      "execution_count": null,
      "outputs": []
    },
    {
      "cell_type": "code",
      "source": [
        "espaco = []         # lista dos espaços ocupados por cada produto\n",
        "valores = []        # lista dos valores de cada produto\n",
        "nomes = []          # lista do nome de cada produto\n",
        "\n",
        "for produto in lista_produtos: # percorrendo a lista de produtos para separar as informações\n",
        "  espaco.append(produto.espaco)\n",
        "  valores.append(produto.valor)\n",
        "  nomes.append(produto.nome)\n",
        "limite = 3\n",
        "\n"
      ],
      "metadata": {
        "id": "oN8_ggnw4Kq6"
      },
      "execution_count": 12,
      "outputs": []
    },
    {
      "cell_type": "code",
      "source": [
        "individuo1 = Individuo(espaco, valores, nomes)\n",
        "print(\"Espaços = %s\" )"
      ],
      "metadata": {
        "id": "tnvxLSQ15fzt"
      },
      "execution_count": null,
      "outputs": []
    },
    {
      "cell_type": "markdown",
      "source": [
        "## Main()"
      ],
      "metadata": {
        "id": "mrOfZ4y34iQe"
      }
    },
    {
      "cell_type": "code",
      "execution_count": null,
      "metadata": {
        "id": "L844wq2MVx6v"
      },
      "outputs": [],
      "source": [
        "\n",
        "lista_produtos = []\n",
        "conexao = pymysql.connect(host='localhost', user='root', passwd='123456', db='produtos')\n",
        "cursor = conexao.cursor()\n",
        "cursor.execute('select nome, espaco, valor, quantidade from produtos')\n",
        "for produto in cursor:\n",
        "    #print(produto[3])\n",
        "    for i in range(produto[3]):\n",
        "        lista_produtos.append(Produto(produto[0], produto[1], produto[2]))\n",
        "\n",
        "cursor.close()\n",
        "conexao.close()\n",
        "\n",
        "\n",
        "lista_produtos.append(Produto(\"Geladeira Dako\", 0.751, 999.90))\n",
        "lista_produtos.append(Produto(\"Iphone 6\", 0.0000899, 2911.12))\n",
        "lista_produtos.append(Produto(\"TV 55' \", 0.400, 4346.99))\n",
        "lista_produtos.append(Produto(\"TV 50' \", 0.290, 3999.90))\n",
        "lista_produtos.append(Produto(\"TV 42' \", 0.200, 2999.00))\n",
        "lista_produtos.append(Produto(\"Notebook Dell\", 0.00350, 2499.90))\n",
        "lista_produtos.append(Produto(\"Ventilador Panasonic\", 0.496, 199.90))\n",
        "lista_produtos.append(Produto(\"Microondas Electrolux\", 0.0424, 308.66))\n",
        "lista_produtos.append(Produto(\"Microondas LG\", 0.0544, 429.90))\n",
        "lista_produtos.append(Produto(\"Microondas Panasonic\", 0.0319, 299.29))\n",
        "lista_produtos.append(Produto(\"Geladeira Brastemp\", 0.635, 849.00))\n",
        "lista_produtos.append(Produto(\"Geladeira Consul\", 0.870, 1199.89))\n",
        "lista_produtos.append(Produto(\"Notebook Lenovo\", 0.498, 1999.90))\n",
        "lista_produtos.append(Produto(\"Notebook Asus\", 0.527, 3999.00))\n",
        "\n",
        "espacos = []\n",
        "valores = []\n",
        "nomes = []\n",
        "for produto in lista_produtos:\n",
        "    espacos.append(produto.espaco)\n",
        "    valores.append(produto.valor)\n",
        "    nomes.append(produto.nome)\n",
        "limite = 10\n",
        "tamanho_populacao = 20\n",
        "taxa_mutacao = 0.01\n",
        "numero_geracoes = 100\n",
        "ag = AlgoritmoGenetico(tamanho_populacao)\n",
        "resultado = ag.resolver(taxa_mutacao, numero_geracoes, espacos, valores, limite)\n",
        "for i in range(len(lista_produtos)):\n",
        "    if resultado[i] == '1':\n",
        "        print(\"Nome: %s R$ %s \" % (lista_produtos[i].nome,\n",
        "                                    lista_produtos[i].valor))\n",
        "        \n",
        "\n",
        "#for valor in ag.lista_solucoes:\n",
        "#    print(valor)\n",
        "plt.plot(ag.lista_solucoes)\n",
        "plt.title(\"Acompanhamento dos valores\")\n",
        "plt.show() "
      ]
    }
  ]
}